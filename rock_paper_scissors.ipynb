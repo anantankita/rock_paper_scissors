{
  "nbformat": 4,
  "nbformat_minor": 0,
  "metadata": {
    "colab": {
      "name": "rock_paper_scissors.ipynb",
      "provenance": [],
      "authorship_tag": "ABX9TyMYIS0Sd2GJOpq7CMxxAwHd",
      "include_colab_link": true
    },
    "kernelspec": {
      "name": "python3",
      "display_name": "Python 3"
    },
    "language_info": {
      "name": "python"
    }
  },
  "cells": [
    {
      "cell_type": "markdown",
      "metadata": {
        "id": "view-in-github",
        "colab_type": "text"
      },
      "source": [
        "<a href=\"https://colab.research.google.com/github/anantankita/rock_paper_scissors/blob/main/rock_paper_scissors.ipynb\" target=\"_parent\"><img src=\"https://colab.research.google.com/assets/colab-badge.svg\" alt=\"Open In Colab\"/></a>"
      ]
    },
    {
      "cell_type": "code",
      "execution_count": 6,
      "metadata": {
        "colab": {
          "base_uri": "https://localhost:8080/"
        },
        "id": "yoGQ5Jz6UdBx",
        "outputId": "11c3b099-819a-4085-cd1c-e6f381068fd9"
      },
      "outputs": [
        {
          "output_type": "stream",
          "name": "stdout",
          "text": [
            "What is your choice? 'r' for rock, 'p' for paper, 's' for scissors: s\n",
            "TIE\n"
          ]
        }
      ],
      "source": [
        "import random\n",
        "\n",
        "def play():\n",
        "  user = input(\"What is your choice? 'r' for rock, 'p' for paper, 's' for scissors: \")\n",
        "  computer = random.choice(['r', 'p', 's'])\n",
        "\n",
        "  # s > p, p > r, r > s\n",
        "  if user == computer:\n",
        "    return 'TIE'\n",
        "\n",
        "  if win(user, computer):\n",
        "    return 'WOHOOO You Won! :)'\n",
        "  \n",
        "  return 'You Last! :('\n",
        "\n",
        "\n",
        "def win(player, opponent):\n",
        "\n",
        "  if (player == 'r' and opponent == 's') or (player == 'p' and opponent == 'r') or (player == 's' and opponent == 'p'):\n",
        "    return True\n",
        "\n",
        "print(play())"
      ]
    }
  ]
}